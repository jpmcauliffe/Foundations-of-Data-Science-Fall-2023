{
 "cells": [
  {
   "cell_type": "code",
   "execution_count": 1,
   "id": "e1c0a67d",
   "metadata": {
    "deletable": false,
    "editable": false
   },
   "outputs": [],
   "source": [
    "# Initialize Otter\n",
    "import otter\n",
    "grader = otter.Notebook(\"lab06.ipynb\")"
   ]
  },
  {
   "cell_type": "markdown",
   "id": "30371269",
   "metadata": {},
   "source": [
    "<img src=\"data8logo.png\" style=\"width: 15%; float: right; padding: 1%; margin-right: 2%;\"/>\n",
    "\n",
    "# Lab 6: Examining the Therapeutic Touch\n",
    "\n",
    "Welcome to Lab 6!\n"
   ]
  },
  {
   "cell_type": "markdown",
   "id": "92bc53cb",
   "metadata": {},
   "source": [
    "**Getting help on lab**: Whenever you feel stuck or need some further clarification, find a GSI or tutor, and they'll be happy to help!\n",
    "\n",
    "Here are the policies for getting full credit:\n",
    "\n",
    "1. For students enrolled in in-person <span style=\"color: #BC412B\">**Regular Labs**</span>, you will receive lab credit by **attending** lab section and making significant progress on the lab notebook. You **<span style=\"text-decoration: underline\">must</span>** submit this assignment to Gradescope.\n",
    "\n",
    "2. For students enrolled in <span style=\"color: #04888B\">**Self-Service Lab**</span>, you will receive lab credit by **completing** the notebook, passing the test cases, and **submitting** it to Gradescope by **11:59pm on the due date**.\n",
    "\n",
    "**Submission**: Once you’re finished, run all cells besides the last one, select File > Save Notebook, and then execute the final cell. The result will contain a zip file that you can use to submit on Gradescope.\n",
    "\n",
    "Let's begin by setting up the tests and imports by running the cell below."
   ]
  },
  {
   "cell_type": "markdown",
   "id": "0f7c6615",
   "metadata": {},
   "source": [
    "After such an extensive introduction to programming for data science, we are finally moving into the section of the course where we can apply our new skills to answer real questions.  \n",
    "\n",
    "In this lab, we'll use testing techniques that were introduced in lecture to test the idea of the therapeutic touch, the idea that some practitioner can feel and massage your human energy field. \n"
   ]
  },
  {
   "cell_type": "code",
   "execution_count": 2,
   "id": "e2a7298a",
   "metadata": {},
   "outputs": [],
   "source": [
    "# Run this cell, but please don't change it.\n",
    " \n",
    "# These lines import the Numpy and Datascience modules.\n",
    "import numpy as np\n",
    "from datascience import *\n",
    "\n",
    "# These lines do some fancy plotting magic\n",
    "import matplotlib\n",
    "%matplotlib inline\n",
    "import matplotlib.pyplot as plt\n",
    "plt.style.use('fivethirtyeight')\n",
    "import warnings\n",
    "warnings.simplefilter('ignore', FutureWarning)\n",
    "from matplotlib import patches\n",
    "from ipywidgets import interact, interactive, fixed\n",
    "import ipywidgets as widgets\n"
   ]
  },
  {
   "cell_type": "markdown",
   "id": "99c14b0f",
   "metadata": {},
   "source": [
    "## 1. What is the Therapeutic Touch\n",
    "\n",
    "The Therapeutic Touch (TT) is the idea that everyone can feel the Human Energy Field (HEF) around individuals.  Those who practice TT have described different people's HEFs as \"warm as Jell-O\" and \"tactile as taffy.\" \n",
    "\n",
    "TT was a popular technique used throughout the 20th century that was toted as a great way to bring balance to a person's health. Certain practitioners claim they have the ability to feel the HEF and can massage it in order to promote health and relaxation in individuals.\n",
    "\n",
    "### Emily Rosa\n",
    "\n",
    "[Emily Rosa](https://en.wikipedia.org/wiki/Emily_Rosa) was a 4th grade student who was very familiar with the world of TT, thanks to her parents, who were both medical practitioners and skeptics of TT.\n",
    "\n",
    "For her 4th grade science fair project, Emily decided to test whether or not TT practitioners could truly interact with a person's HEF. She later went on to publish her work in TT, becoming the youngest person to have a research paper published in a peer reviewed medical journal."
   ]
  },
  {
   "cell_type": "markdown",
   "id": "2877d832",
   "metadata": {},
   "source": [
    "### Emily's Experiment\n",
    "\n",
    "Emily's experiment was clean, simple, and effective. Due to her parents' occupations in the medical field, she had wide access to people who claimed to be TT practitioners. \n",
    "\n",
    "Emily took 21 TT practitioners and used them for her science experiment. She would take a TT practitioner and ask them to extend their hands through a screen (which they can't see through). Emily would be on the other side and would flip a fair coin. Depending on how the coin landed, she would put out either her left hand or her right hand. The TT practitioner would then have to answer which hand Emily put out. If a pracitioner could truly interact with a person's HEF, it would be expected that they answered correctly.\n",
    "\n",
    "Overall, through 210 samples, the practitioner picked the correct hand 44% of the time. \n",
    "\n",
    "Emily's main goal here was to test whether or not the TT practicioners' guesses were random, like the flip of a coin. In most medical experiments, this is the norm. **We want to test whether or not the treatment has an effect, *not* whether or not the treatment actually works.**\n",
    "\n",
    "We will now begin to formulate this experiment in terms of the terminology we learned in this course. "
   ]
  },
  {
   "cell_type": "markdown",
   "id": "2bc27af9",
   "metadata": {},
   "source": [
    "**Question 1.1**: Describe Emily’s [model](https://inferentialthinking.com/chapters/11/1/Assessing_a_Model.html) for how likely the TT practitioners are to choose the correct hand. What alternative model is her model meant to discredit?\n",
    "\n",
    "If you are able, check in with fellow peers, the discussion forum, or your lab TA/AIs, to come to a conclusion.\n"
   ]
  },
  {
   "cell_type": "markdown",
   "id": "13948196",
   "metadata": {},
   "source": [
    "_Her model is meant to discredit the alternative model that suggests TT practitioners can correctly guess which hand she is raising._"
   ]
  },
  {
   "cell_type": "markdown",
   "id": "dd0b3ae8",
   "metadata": {},
   "source": [
    "**Question 1.2:** Remember that the practitioner got the correct answer 44% (0.44) of the time. According to Emily's model, on average, what proportion of times do we expect the practitioner to guess the correct hand? Make sure your answer is a number between 0 and 1. \n"
   ]
  },
  {
   "cell_type": "code",
   "execution_count": 7,
   "id": "f7b31d27",
   "metadata": {
    "tags": []
   },
   "outputs": [
    {
     "data": {
      "text/plain": [
       "0.5"
      ]
     },
     "execution_count": 7,
     "metadata": {},
     "output_type": "execute_result"
    }
   ],
   "source": [
    "expected_proportion_correct = (0.5)\n",
    "expected_proportion_correct"
   ]
  },
  {
   "cell_type": "code",
   "execution_count": 8,
   "id": "c0d0e48b",
   "metadata": {
    "deletable": false,
    "editable": false
   },
   "outputs": [
    {
     "data": {
      "text/html": [
       "<p><strong><pre style='display: inline;'>q1_2</pre></strong> passed! 🚀</p>"
      ],
      "text/plain": [
       "q1_2 results: All test cases passed!"
      ]
     },
     "execution_count": 8,
     "metadata": {},
     "output_type": "execute_result"
    }
   ],
   "source": [
    "grader.check(\"q1_2\")"
   ]
  },
  {
   "cell_type": "markdown",
   "id": "211f1412",
   "metadata": {},
   "source": [
    "The goal now is to see if our deviation from this expected proportion of correct answers is due to something other than chance. \n",
    "\n",
    "**Question 1.3:** We usually use a statistic to help determine which model the evidence points towards. What is a statistic that we can use to compare outcomes under Emily’s model to what was observed? Assign `valid_stat` to an array of integer(s) representing test statistics that Emily can use: \n",
    "\n",
    "1. The difference between the expected percent correct and the actual percent correct\n",
    "2. The absolute difference between the expected percent correct and the actual percent correct\n",
    "3. The sum of the expected percent correct and the actual percent correct\n",
    "\n",
    "**NOTE:** Make sure to use `make_array` to create your array of integer(s)!\n",
    "\n",
    "> *Hint*: What should the domain (possible x values) be for the distribution of our test statistics?\n"
   ]
  },
  {
   "cell_type": "code",
   "execution_count": 9,
   "id": "3f54f876",
   "metadata": {
    "tags": []
   },
   "outputs": [
    {
     "data": {
      "text/plain": [
       "array([2])"
      ]
     },
     "execution_count": 9,
     "metadata": {},
     "output_type": "execute_result"
    }
   ],
   "source": [
    "valid_stat = make_array(2)\n",
    "valid_stat"
   ]
  },
  {
   "cell_type": "code",
   "execution_count": 10,
   "id": "bfba7635",
   "metadata": {
    "deletable": false,
    "editable": false
   },
   "outputs": [
    {
     "data": {
      "text/html": [
       "<p><strong><pre style='display: inline;'>q1_3</pre></strong> passed! 🎉</p>"
      ],
      "text/plain": [
       "q1_3 results: All test cases passed!"
      ]
     },
     "execution_count": 10,
     "metadata": {},
     "output_type": "execute_result"
    }
   ],
   "source": [
    "grader.check(\"q1_3\")"
   ]
  },
  {
   "cell_type": "markdown",
   "id": "ac582b57",
   "metadata": {},
   "source": [
    "**Question 1.4:** Why is the statistic from Question 1.3 the appropriate choice for comparing outcomes in Emily's experiment? How does it relate to the models you defined in Question 1.1?\n"
   ]
  },
  {
   "cell_type": "markdown",
   "id": "08766bc8",
   "metadata": {},
   "source": [
    "_We do not care whether the actual percent is above or below the expected percent, we just care how far from the expected percent the actual percent is._"
   ]
  },
  {
   "cell_type": "markdown",
   "id": "1f5040d4",
   "metadata": {},
   "source": [
    "**Question 1.5:** Define the function `statistic` which takes in an expected proportion and an actual proportion, and returns the value of the statistic chosen in Question 1.3. Assume that the argument takes in proportions, but  return your answer as a percentage. \n",
    "\n",
    "*Hint:* Remember we are asking for a **percentage**, not a proportion. \n"
   ]
  },
  {
   "cell_type": "code",
   "execution_count": 18,
   "id": "9a367b47",
   "metadata": {
    "tags": []
   },
   "outputs": [],
   "source": [
    "def statistic(expected_prop, actual_prop):\n",
    "    return abs(expected_prop - actual_prop) * 100"
   ]
  },
  {
   "cell_type": "code",
   "execution_count": 19,
   "id": "59c7e240",
   "metadata": {
    "deletable": false,
    "editable": false
   },
   "outputs": [
    {
     "data": {
      "text/html": [
       "<p><strong><pre style='display: inline;'>q1_5</pre></strong> passed! 🍀</p>"
      ],
      "text/plain": [
       "q1_5 results: All test cases passed!"
      ]
     },
     "execution_count": 19,
     "metadata": {},
     "output_type": "execute_result"
    }
   ],
   "source": [
    "grader.check(\"q1_5\")"
   ]
  },
  {
   "cell_type": "markdown",
   "id": "c41b33e0",
   "metadata": {},
   "source": [
    "**Question 1.6:** Use your newly defined function to calculate the observed statistic from Emily's experiment. \n"
   ]
  },
  {
   "cell_type": "code",
   "execution_count": 31,
   "id": "c8cc8ff3",
   "metadata": {
    "tags": []
   },
   "outputs": [
    {
     "data": {
      "text/plain": [
       "6.0"
      ]
     },
     "execution_count": 31,
     "metadata": {},
     "output_type": "execute_result"
    }
   ],
   "source": [
    "observed_statistic = statistic(0.5,0.44)\n",
    "observed_statistic"
   ]
  },
  {
   "cell_type": "code",
   "execution_count": 32,
   "id": "3fd2b1b4",
   "metadata": {
    "deletable": false,
    "editable": false
   },
   "outputs": [
    {
     "data": {
      "text/html": [
       "<p><strong><pre style='display: inline;'>q1_6</pre></strong> passed! 🎉</p>"
      ],
      "text/plain": [
       "q1_6 results: All test cases passed!"
      ]
     },
     "execution_count": 32,
     "metadata": {},
     "output_type": "execute_result"
    }
   ],
   "source": [
    "grader.check(\"q1_6\")"
   ]
  },
  {
   "cell_type": "markdown",
   "id": "81d737b0",
   "metadata": {},
   "source": [
    "**Is this observed statistic consistent with what we expect to see under Emily’s model?**\n",
    "\n",
    "In order to answer this question, we must simulate the experiment as though Emily's model was correct, and calculate our statistic for every simulation.\n",
    "\n",
    "### `sample_proportions`\n",
    "\n",
    "`sample_proportions` can be used to randomly sample from multiple categories when you know the proportion of data points that are expected to fall in each category. `sample_proportions` takes two arguments: the sample size and an array of proportions corresponding to each category in the population (should sum to 1).\n",
    "\n",
    "Consider flipping a fair coin, where the two outcomes (coin lands heads and coin lands tails) occur with an equal chance. We expect that half of all coin flips will land heads, and half of all coin flips will land tails.\n",
    "\n",
    "Run the following cell to see the simulation of 10 flips of a fair coin. Let the first item of `coin_proportions` be the proportion of heads and the second item of `coin_proportions` be the proportion of tails.\n",
    "\n",
    "*Observe what happens when you run this cell multiple times—the proportion of coin flips that land heads and tails appears to change, as you are simulating flipping 10 coins each time!*"
   ]
  },
  {
   "cell_type": "code",
   "execution_count": 36,
   "id": "5f83b044",
   "metadata": {},
   "outputs": [
    {
     "data": {
      "text/plain": [
       "array([0.5, 0.5])"
      ]
     },
     "execution_count": 36,
     "metadata": {},
     "output_type": "execute_result"
    }
   ],
   "source": [
    "coin_proportions = make_array(0.5, 0.5) \n",
    "ten_flips = sample_proportions(10, coin_proportions)\n",
    "ten_flips"
   ]
  },
  {
   "cell_type": "markdown",
   "id": "2924232d",
   "metadata": {},
   "source": [
    "`sample_proportions` returns an array that is the same length as the proportion array that is passed through. It contains the proportion of each category that appears in the sample. \n",
    "\n",
    "In our example, the first item of `ten_flips` is the simulated proportion of heads and the second item of `ten_flips` is the simulated proportion of tails."
   ]
  },
  {
   "cell_type": "code",
   "execution_count": 37,
   "id": "c5872f8d",
   "metadata": {},
   "outputs": [
    {
     "name": "stdout",
     "output_type": "stream",
     "text": [
      "In our simulation, 0.5 of flips were heads and 0.5 of flips were tails.\n"
     ]
    }
   ],
   "source": [
    "simulated_proportion_heads = ten_flips.item(0)\n",
    "simulated_proportion_tails = ten_flips.item(1)\n",
    "\n",
    "print(\"In our simulation, \" + str(simulated_proportion_heads) + \" of flips were heads and \" \\\n",
    "      + str(simulated_proportion_tails) + \" of flips were tails.\")"
   ]
  },
  {
   "cell_type": "markdown",
   "id": "4808eece",
   "metadata": {},
   "source": [
    "**Question 1.7:** To begin simulating, we should start by creating a representation of Emily's model to use for our simulation. This will be an array with two items in it. The first item should be the proportion of times a TT practictioner picks the correct hand, assuming that Emily’s model was correct. The second item should be the proportion of times, under the same assumption, that the TT practitioner picks the incorrect hand. Assign `model_proportions` to this array. \n",
    "\n",
    "After this, we can simulate 210 hand choices, as Emily evaluated in real life, and find a single statistic to summarize this instance of the simulation. Use the `sample_proportions` function and assign the **proportion of correct hand choices** (out of 210) to `simulation_proportion_correct`. Lastly, use your `statistic` function to assign `one_statistic`  to the value of the statistic for this one simulation.\n",
    "\n",
    "*Hint:* `sample_proportions` usage can be found on the [Python Reference](https://www.data8.org/fa23/reference/).\n"
   ]
  },
  {
   "cell_type": "code",
   "execution_count": 47,
   "id": "9617182f",
   "metadata": {
    "tags": []
   },
   "outputs": [
    {
     "data": {
      "text/plain": [
       "0.9523809523809545"
      ]
     },
     "execution_count": 47,
     "metadata": {},
     "output_type": "execute_result"
    }
   ],
   "source": [
    "# This saves the random state of our code so that we can \n",
    "# generate the same numbers each time we run the code.\n",
    "# Please do not change this line. \n",
    "np.random.seed(16)\n",
    "\n",
    "model_proportions = make_array(0.5,0.5)\n",
    "simulation_proportion_correct = sample_proportions(210, model_proportions).item(0)\n",
    "one_statistic = statistic(0.5, simulation_proportion_correct)\n",
    "one_statistic"
   ]
  },
  {
   "cell_type": "code",
   "execution_count": 48,
   "id": "4b76cb86",
   "metadata": {
    "deletable": false,
    "editable": false
   },
   "outputs": [
    {
     "data": {
      "text/html": [
       "<p><strong><pre style='display: inline;'>q1_7</pre></strong> passed! 🌟</p>"
      ],
      "text/plain": [
       "q1_7 results: All test cases passed!"
      ]
     },
     "execution_count": 48,
     "metadata": {},
     "output_type": "execute_result"
    }
   ],
   "source": [
    "grader.check(\"q1_7\")"
   ]
  },
  {
   "cell_type": "markdown",
   "id": "adce5acb",
   "metadata": {},
   "source": [
    "**Question 1.8:** Let's now see what the distribution of statistics is actually like under Emily's model. \n",
    "\n",
    "Define the function `simulation_and_statistic` to take in the `model_proportions` array and the expected proportion of times a TT practitioner would guess a hand correctly under Emily's model. The function should simulate Emily running through the experiment 210 times and return the statistic of this one simulation. \n",
    "\n",
    "*Hint:* This should follow the same pattern as the code you did in the previous problem.  "
   ]
  },
  {
   "cell_type": "code",
   "execution_count": 73,
   "id": "8ac088e8",
   "metadata": {
    "tags": []
   },
   "outputs": [
    {
     "data": {
      "text/plain": [
       "0.48095238095238096"
      ]
     },
     "execution_count": 73,
     "metadata": {},
     "output_type": "execute_result"
    }
   ],
   "source": [
    "def simulation_and_statistic(model_proportions, expected_proportion_correct):\n",
    "    '''Simulates 210 TT hand choices under Emily’s model. \n",
    "    Returns one statistic from the simulation.'''\n",
    "    twoten_trials = sample_proportions(210, model_proportions)\n",
    "    return twoten_trials.item(0)\n",
    "\n",
    "simulation_and_statistic(model_proportions, expected_proportion_correct)"
   ]
  },
  {
   "cell_type": "code",
   "execution_count": 52,
   "id": "f693783d",
   "metadata": {},
   "outputs": [
    {
     "name": "stdout",
     "output_type": "stream",
     "text": [
      "[0.5 0.5]\n",
      "0.5\n"
     ]
    }
   ],
   "source": [
    "print (model_proportions)\n",
    "print (expected_proportion_correct)"
   ]
  },
  {
   "cell_type": "code",
   "execution_count": 74,
   "id": "bf65189f",
   "metadata": {
    "tags": []
   },
   "outputs": [
    {
     "data": {
      "text/plain": [
       "array([0.52380952, 0.50952381, 0.49047619, 0.51428571, 0.53809524,\n",
       "       0.54761905, 0.5047619 , 0.48095238, 0.53333333, 0.43809524,\n",
       "       0.51904762, 0.5047619 , 0.5       , 0.51428571, 0.47619048,\n",
       "       0.54285714, 0.45714286, 0.5       , 0.51904762, 0.51428571,\n",
       "       0.51428571, 0.5047619 , 0.47619048, 0.52380952, 0.46666667,\n",
       "       0.5047619 , 0.52857143, 0.5       , 0.56666667, 0.51904762,\n",
       "       0.50952381, 0.51904762, 0.53809524, 0.5047619 , 0.45714286,\n",
       "       0.47142857, 0.47619048, 0.48095238, 0.55714286, 0.5047619 ,\n",
       "       0.48571429, 0.54285714, 0.52857143, 0.43809524, 0.52380952,\n",
       "       0.5       , 0.4952381 , 0.42380952, 0.45238095, 0.48095238,\n",
       "       0.54285714, 0.48095238, 0.54285714, 0.48571429, 0.54285714,\n",
       "       0.44285714, 0.53809524, 0.5047619 , 0.42380952, 0.52380952,\n",
       "       0.46190476, 0.54285714, 0.55238095, 0.5047619 , 0.52380952,\n",
       "       0.52380952, 0.49047619, 0.52857143, 0.48095238, 0.54761905,\n",
       "       0.49047619, 0.46190476, 0.44761905, 0.4952381 , 0.4952381 ,\n",
       "       0.50952381, 0.51428571, 0.47619048, 0.52380952, 0.5047619 ,\n",
       "       0.46190476, 0.55238095, 0.47142857, 0.42857143, 0.50952381,\n",
       "       0.54285714, 0.50952381, 0.48095238, 0.51428571, 0.43809524,\n",
       "       0.5047619 , 0.49047619, 0.53333333, 0.54285714, 0.47142857,\n",
       "       0.51904762, 0.49047619, 0.44285714, 0.50952381, 0.49047619,\n",
       "       0.45714286, 0.5       , 0.4952381 , 0.51428571, 0.54761905,\n",
       "       0.51428571, 0.48095238, 0.56190476, 0.46190476, 0.52380952,\n",
       "       0.45714286, 0.5       , 0.4952381 , 0.47142857, 0.45714286,\n",
       "       0.48571429, 0.58571429, 0.5047619 , 0.4952381 , 0.43333333,\n",
       "       0.48095238, 0.5047619 , 0.48571429, 0.51904762, 0.5047619 ,\n",
       "       0.5047619 , 0.51904762, 0.45714286, 0.52380952, 0.51904762,\n",
       "       0.5       , 0.54285714, 0.50952381, 0.52380952, 0.41428571,\n",
       "       0.56190476, 0.51904762, 0.47619048, 0.46190476, 0.55714286,\n",
       "       0.46666667, 0.52380952, 0.55714286, 0.47142857, 0.4952381 ,\n",
       "       0.51904762, 0.50952381, 0.5       , 0.52380952, 0.56666667,\n",
       "       0.56190476, 0.50952381, 0.42857143, 0.4952381 , 0.47619048,\n",
       "       0.5047619 , 0.51904762, 0.53809524, 0.5047619 , 0.5       ,\n",
       "       0.54761905, 0.54285714, 0.4952381 , 0.41428571, 0.5047619 ,\n",
       "       0.58095238, 0.5       , 0.49047619, 0.4952381 , 0.52857143,\n",
       "       0.48571429, 0.55238095, 0.43809524, 0.48571429, 0.53333333,\n",
       "       0.52380952, 0.5047619 , 0.50952381, 0.44761905, 0.4952381 ,\n",
       "       0.54285714, 0.50952381, 0.48571429, 0.46666667, 0.48571429,\n",
       "       0.45238095, 0.5047619 , 0.47619048, 0.46666667, 0.4952381 ,\n",
       "       0.5       , 0.50952381, 0.48095238, 0.47142857, 0.5047619 ,\n",
       "       0.55238095, 0.5047619 , 0.44761905, 0.54285714, 0.47619048,\n",
       "       0.51428571, 0.45714286, 0.57142857, 0.5       , 0.52380952,\n",
       "       0.53809524, 0.47619048, 0.51428571, 0.51428571, 0.5047619 ,\n",
       "       0.4952381 , 0.49047619, 0.51428571, 0.5047619 , 0.50952381,\n",
       "       0.54761905, 0.45714286, 0.48571429, 0.43809524, 0.46190476,\n",
       "       0.51428571, 0.38571429, 0.51428571, 0.49047619, 0.48095238,\n",
       "       0.53809524, 0.52857143, 0.53809524, 0.5047619 , 0.49047619,\n",
       "       0.47619048, 0.4952381 , 0.55238095, 0.47142857, 0.44285714,\n",
       "       0.46190476, 0.54761905, 0.51904762, 0.47142857, 0.47619048,\n",
       "       0.53809524, 0.5       , 0.46190476, 0.4952381 , 0.51428571,\n",
       "       0.51428571, 0.58571429, 0.53333333, 0.49047619, 0.48571429,\n",
       "       0.48095238, 0.54285714, 0.52857143, 0.51904762, 0.45238095,\n",
       "       0.46666667, 0.47142857, 0.4952381 , 0.5       , 0.53809524,\n",
       "       0.45714286, 0.50952381, 0.53809524, 0.53809524, 0.56190476,\n",
       "       0.4952381 , 0.44761905, 0.50952381, 0.5       , 0.5047619 ,\n",
       "       0.53333333, 0.5       , 0.48095238, 0.50952381, 0.52380952,\n",
       "       0.51428571, 0.41904762, 0.5       , 0.42857143, 0.55714286,\n",
       "       0.46666667, 0.5       , 0.45714286, 0.44285714, 0.51428571,\n",
       "       0.51904762, 0.44761905, 0.45238095, 0.48095238, 0.55714286,\n",
       "       0.51428571, 0.53333333, 0.4952381 , 0.48095238, 0.47142857,\n",
       "       0.48571429, 0.4       , 0.48571429, 0.4952381 , 0.48571429,\n",
       "       0.56666667, 0.49047619, 0.53333333, 0.46666667, 0.4952381 ,\n",
       "       0.41904762, 0.53809524, 0.51428571, 0.54761905, 0.46190476,\n",
       "       0.48571429, 0.52857143, 0.47142857, 0.51428571, 0.5952381 ,\n",
       "       0.49047619, 0.53809524, 0.48095238, 0.52380952, 0.57619048,\n",
       "       0.44285714, 0.53333333, 0.45714286, 0.51428571, 0.54761905,\n",
       "       0.47142857, 0.51428571, 0.47142857, 0.54285714, 0.4952381 ,\n",
       "       0.47619048, 0.4952381 , 0.48571429, 0.49047619, 0.53333333,\n",
       "       0.60952381, 0.53333333, 0.45238095, 0.52857143, 0.48571429,\n",
       "       0.50952381, 0.5047619 , 0.53333333, 0.5       , 0.43809524,\n",
       "       0.5       , 0.48571429, 0.51904762, 0.51904762, 0.47619048,\n",
       "       0.49047619, 0.45238095, 0.45238095, 0.48571429, 0.52380952,\n",
       "       0.41428571, 0.53333333, 0.53809524, 0.47619048, 0.4952381 ,\n",
       "       0.47142857, 0.5047619 , 0.4952381 , 0.43809524, 0.5047619 ,\n",
       "       0.47619048, 0.53333333, 0.46190476, 0.51904762, 0.4952381 ,\n",
       "       0.52380952, 0.54761905, 0.47619048, 0.46666667, 0.5       ,\n",
       "       0.4952381 , 0.55714286, 0.5       , 0.54761905, 0.44761905,\n",
       "       0.54761905, 0.50952381, 0.5       , 0.53333333, 0.5       ,\n",
       "       0.5       , 0.5047619 , 0.50952381, 0.43809524, 0.48095238,\n",
       "       0.41904762, 0.46666667, 0.5047619 , 0.44761905, 0.4952381 ,\n",
       "       0.42857143, 0.51904762, 0.46190476, 0.52380952, 0.52857143,\n",
       "       0.48095238, 0.5       , 0.51904762, 0.5047619 , 0.55238095,\n",
       "       0.48571429, 0.45238095, 0.4952381 , 0.49047619, 0.46666667,\n",
       "       0.51428571, 0.47619048, 0.46190476, 0.53809524, 0.51904762,\n",
       "       0.54285714, 0.5       , 0.5       , 0.51428571, 0.44285714,\n",
       "       0.51428571, 0.49047619, 0.52380952, 0.49047619, 0.51428571,\n",
       "       0.53333333, 0.53333333, 0.54761905, 0.46666667, 0.51428571,\n",
       "       0.54761905, 0.45238095, 0.53333333, 0.49047619, 0.42857143,\n",
       "       0.56666667, 0.49047619, 0.45714286, 0.46666667, 0.54285714,\n",
       "       0.56666667, 0.51428571, 0.51428571, 0.4952381 , 0.46190476,\n",
       "       0.53333333, 0.46666667, 0.52380952, 0.53809524, 0.40952381,\n",
       "       0.4952381 , 0.56190476, 0.4952381 , 0.51904762, 0.53809524,\n",
       "       0.51904762, 0.48095238, 0.51904762, 0.54285714, 0.54761905,\n",
       "       0.4952381 , 0.49047619, 0.48571429, 0.51428571, 0.45714286,\n",
       "       0.52380952, 0.52380952, 0.53333333, 0.5047619 , 0.52380952,\n",
       "       0.52857143, 0.43809524, 0.52857143, 0.48095238, 0.52380952,\n",
       "       0.48095238, 0.45714286, 0.46666667, 0.5047619 , 0.51904762,\n",
       "       0.51428571, 0.49047619, 0.46666667, 0.4952381 , 0.48095238,\n",
       "       0.53333333, 0.5047619 , 0.52857143, 0.47619048, 0.5       ,\n",
       "       0.46666667, 0.48095238, 0.54285714, 0.55714286, 0.46190476,\n",
       "       0.51428571, 0.53333333, 0.45714286, 0.54285714, 0.51428571,\n",
       "       0.51428571, 0.50952381, 0.48571429, 0.58571429, 0.45714286,\n",
       "       0.52380952, 0.44285714, 0.57619048, 0.43333333, 0.5       ,\n",
       "       0.4952381 , 0.43809524, 0.51428571, 0.45238095, 0.51904762,\n",
       "       0.47619048, 0.41904762, 0.49047619, 0.52380952, 0.53333333,\n",
       "       0.45238095, 0.4952381 , 0.52857143, 0.53809524, 0.5047619 ,\n",
       "       0.50952381, 0.51428571, 0.47142857, 0.54285714, 0.49047619,\n",
       "       0.52857143, 0.46666667, 0.52380952, 0.50952381, 0.52380952,\n",
       "       0.46666667, 0.48571429, 0.52857143, 0.51428571, 0.51904762,\n",
       "       0.5       , 0.46190476, 0.45714286, 0.4952381 , 0.51428571,\n",
       "       0.5       , 0.49047619, 0.51904762, 0.51904762, 0.46190476,\n",
       "       0.4952381 , 0.54285714, 0.51428571, 0.44761905, 0.50952381,\n",
       "       0.54761905, 0.55238095, 0.51904762, 0.55238095, 0.4952381 ,\n",
       "       0.49047619, 0.55238095, 0.52857143, 0.48095238, 0.46190476,\n",
       "       0.49047619, 0.49047619, 0.52380952, 0.54761905, 0.52380952,\n",
       "       0.45238095, 0.5       , 0.46666667, 0.48095238, 0.46190476,\n",
       "       0.46666667, 0.48571429, 0.48095238, 0.47142857, 0.48095238,\n",
       "       0.50952381, 0.4952381 , 0.5047619 , 0.48571429, 0.54285714,\n",
       "       0.43809524, 0.53809524, 0.5047619 , 0.48095238, 0.47142857,\n",
       "       0.48571429, 0.49047619, 0.49047619, 0.51428571, 0.4952381 ,\n",
       "       0.5047619 , 0.49047619, 0.58095238, 0.45714286, 0.41904762,\n",
       "       0.5       , 0.47142857, 0.54285714, 0.46190476, 0.4952381 ,\n",
       "       0.49047619, 0.46666667, 0.48095238, 0.45238095, 0.48095238,\n",
       "       0.42857143, 0.45238095, 0.45714286, 0.52380952, 0.52857143,\n",
       "       0.55238095, 0.51904762, 0.48571429, 0.53333333, 0.45714286,\n",
       "       0.49047619, 0.52380952, 0.47142857, 0.5       , 0.54285714,\n",
       "       0.51904762, 0.54285714, 0.49047619, 0.53333333, 0.50952381,\n",
       "       0.58095238, 0.52380952, 0.49047619, 0.56190476, 0.52857143,\n",
       "       0.44761905, 0.48571429, 0.48095238, 0.45238095, 0.5047619 ,\n",
       "       0.55238095, 0.5       , 0.54285714, 0.53333333, 0.51428571,\n",
       "       0.48095238, 0.46666667, 0.53809524, 0.52857143, 0.57142857,\n",
       "       0.48095238, 0.52380952, 0.44285714, 0.4952381 , 0.50952381,\n",
       "       0.49047619, 0.52380952, 0.43809524, 0.47142857, 0.48571429,\n",
       "       0.51428571, 0.46666667, 0.46666667, 0.46190476, 0.5047619 ,\n",
       "       0.44761905, 0.5       , 0.5       , 0.5047619 , 0.5       ,\n",
       "       0.50952381, 0.43809524, 0.46666667, 0.47619048, 0.48095238,\n",
       "       0.44285714, 0.48095238, 0.56190476, 0.43809524, 0.47142857,\n",
       "       0.5       , 0.53333333, 0.44761905, 0.5       , 0.52380952,\n",
       "       0.53333333, 0.5047619 , 0.48095238, 0.5047619 , 0.52857143,\n",
       "       0.45714286, 0.48571429, 0.53809524, 0.45714286, 0.52380952,\n",
       "       0.48571429, 0.49047619, 0.51904762, 0.46190476, 0.53333333,\n",
       "       0.5       , 0.49047619, 0.47619048, 0.56190476, 0.51904762,\n",
       "       0.46190476, 0.42857143, 0.45238095, 0.48095238, 0.57142857,\n",
       "       0.47619048, 0.48095238, 0.47142857, 0.51904762, 0.4952381 ,\n",
       "       0.5       , 0.50952381, 0.48095238, 0.51904762, 0.52380952,\n",
       "       0.52857143, 0.48095238, 0.54285714, 0.49047619, 0.55714286,\n",
       "       0.46666667, 0.47619048, 0.51904762, 0.45714286, 0.4952381 ,\n",
       "       0.51904762, 0.51904762, 0.51428571, 0.44285714, 0.51428571,\n",
       "       0.47619048, 0.48095238, 0.45238095, 0.47142857, 0.53333333,\n",
       "       0.54285714, 0.43809524, 0.45238095, 0.54285714, 0.54761905,\n",
       "       0.51428571, 0.48571429, 0.47619048, 0.52857143, 0.53809524,\n",
       "       0.5047619 , 0.5       , 0.48095238, 0.48095238, 0.45238095,\n",
       "       0.5047619 , 0.52857143, 0.52380952, 0.51904762, 0.4952381 ,\n",
       "       0.5       , 0.56190476, 0.47619048, 0.44285714, 0.47619048,\n",
       "       0.43809524, 0.45714286, 0.49047619, 0.46190476, 0.48095238,\n",
       "       0.52380952, 0.5       , 0.48095238, 0.51428571, 0.46666667,\n",
       "       0.51904762, 0.55238095, 0.57619048, 0.49047619, 0.48571429,\n",
       "       0.46666667, 0.44285714, 0.48095238, 0.51428571, 0.52857143,\n",
       "       0.47142857, 0.56190476, 0.48095238, 0.50952381, 0.51428571,\n",
       "       0.47619048, 0.46190476, 0.51428571, 0.48095238, 0.50952381,\n",
       "       0.5047619 , 0.51904762, 0.48571429, 0.50952381, 0.56666667,\n",
       "       0.54761905, 0.4952381 , 0.49047619, 0.51428571, 0.5       ,\n",
       "       0.59047619, 0.52380952, 0.5047619 , 0.48095238, 0.46190476,\n",
       "       0.5       , 0.3952381 , 0.53333333, 0.46666667, 0.52380952,\n",
       "       0.40952381, 0.51904762, 0.53333333, 0.46666667, 0.52857143,\n",
       "       0.5952381 , 0.51904762, 0.4952381 , 0.45714286, 0.43809524,\n",
       "       0.50952381, 0.54761905, 0.51904762, 0.52857143, 0.48095238,\n",
       "       0.46190476, 0.54285714, 0.51904762, 0.52857143, 0.47142857,\n",
       "       0.47619048, 0.49047619, 0.47142857, 0.5       , 0.47142857,\n",
       "       0.51428571, 0.52380952, 0.44761905, 0.54761905, 0.46190476,\n",
       "       0.46666667, 0.52857143, 0.4952381 , 0.56190476, 0.55238095,\n",
       "       0.45238095, 0.55238095, 0.54761905, 0.54761905, 0.52380952,\n",
       "       0.55238095, 0.50952381, 0.54761905, 0.47142857, 0.55714286,\n",
       "       0.47142857, 0.52380952, 0.43809524, 0.52857143, 0.46666667,\n",
       "       0.5047619 , 0.52857143, 0.50952381, 0.54761905, 0.48571429,\n",
       "       0.46666667, 0.51904762, 0.43809524, 0.56666667, 0.51428571,\n",
       "       0.52380952, 0.50952381, 0.46666667, 0.47619048, 0.51428571,\n",
       "       0.50952381, 0.42857143, 0.52857143, 0.52857143, 0.5       ,\n",
       "       0.5047619 , 0.43809524, 0.56190476, 0.48571429, 0.47142857,\n",
       "       0.48571429, 0.46666667, 0.55238095, 0.49047619, 0.4952381 ,\n",
       "       0.48095238, 0.5047619 , 0.52857143, 0.5       , 0.4952381 ,\n",
       "       0.47619048, 0.48571429, 0.55238095, 0.46666667, 0.51428571,\n",
       "       0.5       , 0.51428571, 0.5       , 0.51428571, 0.55238095,\n",
       "       0.51904762, 0.48571429, 0.50952381, 0.51428571, 0.52380952,\n",
       "       0.5047619 , 0.5047619 , 0.49047619, 0.4952381 , 0.43809524,\n",
       "       0.54285714, 0.43333333, 0.5047619 , 0.49047619, 0.46190476,\n",
       "       0.52380952, 0.56190476, 0.54285714, 0.46666667, 0.5047619 ,\n",
       "       0.57142857, 0.49047619, 0.52380952, 0.47619048, 0.46190476,\n",
       "       0.49047619, 0.45714286, 0.50952381, 0.45238095, 0.53809524,\n",
       "       0.49047619, 0.51428571, 0.41428571, 0.53809524, 0.49047619,\n",
       "       0.51904762, 0.42857143, 0.45714286, 0.47619048, 0.45714286,\n",
       "       0.5       , 0.46666667, 0.48571429, 0.52857143, 0.5047619 ,\n",
       "       0.42857143, 0.5       , 0.57619048, 0.51428571, 0.47142857,\n",
       "       0.48095238, 0.52380952, 0.46190476, 0.51904762, 0.50952381,\n",
       "       0.47142857, 0.48095238, 0.46666667, 0.53809524, 0.5047619 ,\n",
       "       0.53333333, 0.51904762, 0.49047619, 0.51428571, 0.46666667,\n",
       "       0.54285714, 0.45238095, 0.49047619, 0.44285714, 0.44761905,\n",
       "       0.42857143, 0.57619048, 0.46666667, 0.4952381 , 0.46666667,\n",
       "       0.5       , 0.48571429, 0.46666667, 0.45238095, 0.51428571,\n",
       "       0.54761905, 0.5047619 , 0.57142857, 0.5       , 0.51428571,\n",
       "       0.43809524, 0.46190476, 0.52380952, 0.47619048, 0.58571429])"
      ]
     },
     "execution_count": 74,
     "metadata": {},
     "output_type": "execute_result"
    }
   ],
   "source": [
    "num_repetitions = 1000\n",
    "\n",
    "simulated_statistics = make_array()\n",
    "\n",
    "for i in np.arange(num_repetitions):\n",
    "    simulated_statistics = np.append(simulated_statistics, simulation_and_statistic(model_proportions, expected_proportion_correct))\n",
    "    \n",
    "simulated_statistics"
   ]
  },
  {
   "cell_type": "code",
   "execution_count": 75,
   "id": "9d9e1b8b",
   "metadata": {
    "deletable": false,
    "editable": false
   },
   "outputs": [
    {
     "data": {
      "text/html": [
       "<p><strong><pre style='display: inline;'>q1_8</pre></strong> passed! 🍀</p>"
      ],
      "text/plain": [
       "q1_8 results: All test cases passed!"
      ]
     },
     "execution_count": 75,
     "metadata": {},
     "output_type": "execute_result"
    }
   ],
   "source": [
    "grader.check(\"q1_8\")"
   ]
  },
  {
   "cell_type": "markdown",
   "id": "b5c71a68",
   "metadata": {},
   "source": [
    "Let's view the distribution of the simulated statistics under Emily's model, and visually compare where the observed statistic lies relative to the simulated statistics."
   ]
  },
  {
   "cell_type": "code",
   "execution_count": 76,
   "id": "beca7fd4",
   "metadata": {},
   "outputs": [
    {
     "data": {
      "image/png": "[encoded data removed]",
      "text/plain": [
       "<Figure size 600x400 with 1 Axes>"
      ]
     },
     "metadata": {},
     "output_type": "display_data"
    }
   ],
   "source": [
    "t = Table().with_column('Simulated Statistics', simulated_statistics)\n",
    "t.hist()\n",
    "plt.scatter(observed_statistic, 0, color='red', s=100, zorder=2);"
   ]
  },
  {
   "cell_type": "markdown",
   "id": "24f83421",
   "metadata": {},
   "source": [
    "We can make a visual argument as to whether we believe the observed statistic is consistent with Emily’s model. Here, since larger values of the test statistic suggest the alternative model (where the chance of guessing the correct hand is something other than 50%), we can formalize our analysis by finding what proportion of simulated statistics were as large or larger than our observed test statistic (the area at or to the right of the observed test statistic). If this area is small enough, we’ll declare that the observed data are inconsistent with our simulated model. Here is the [link](https://inferentialthinking.com/chapters/11/1/Assessing_a_Model.html) to the section in the textbook."
   ]
  },
  {
   "cell_type": "markdown",
   "id": "e090dde4",
   "metadata": {},
   "source": [
    "**Question 1.9:** Calculate the proportion of simulated statistics in Question 1.8 greater than or equal to the observed statistic. \n",
    "\n",
    "*Hint:* `np.count_nonzero` usage can be found [here](http://data8.org/fa23/reference).\n"
   ]
  },
  {
   "cell_type": "code",
   "execution_count": 83,
   "id": "ca3c1c80",
   "metadata": {
    "scrolled": true,
    "tags": []
   },
   "outputs": [
    {
     "data": {
      "text/plain": [
       "0"
      ]
     },
     "execution_count": 83,
     "metadata": {},
     "output_type": "execute_result"
    }
   ],
   "source": [
    "proportion_greater_or_equal = np.count_nonzero(simulated_statistics >= observed_statistic)\n",
    "proportion_greater_or_equal"
   ]
  },
  {
   "cell_type": "code",
   "execution_count": 84,
   "id": "559e2fc1",
   "metadata": {
    "deletable": false,
    "editable": false
   },
   "outputs": [
    {
     "data": {
      "text/html": [
       "<p><strong><pre style='display: inline;'>q1_9</pre></strong> passed! 🎉</p>"
      ],
      "text/plain": [
       "q1_9 results: All test cases passed!"
      ]
     },
     "execution_count": 84,
     "metadata": {},
     "output_type": "execute_result"
    }
   ],
   "source": [
    "grader.check(\"q1_9\")"
   ]
  },
  {
   "cell_type": "markdown",
   "id": "65c306da",
   "metadata": {},
   "source": [
    "By convention, we often compare the proportion we just calculated to 0.05. If the proportion of simulated statistics greater than or equal to the observed statistic is sufficiently small (less than or equal to 0.05), then this is evidence against Emily's model. Conceptually, you may think of this as the case where less than 5% of simulated values are as far or farther away from what we had expected. If this is not the case, we don’t have any reason to doubt Emily’s model. \n",
    "\n",
    "This should help you make your own conclusions about Emily Rosa's experiment. \n",
    "\n",
    "Therapeutic touch fell out of use after this experiment, which was eventually accepted into one of the premier medical journals. TT practitioners hit back and accused Emily and her family of tampering with the results, while some claimed that Emily's bad spiritual mood towards therapeutic touch made it difficult to read her HEF. Whatever it may be, Emily's experiment is a classic example about how anyone, with the right resources, can test anything they want!"
   ]
  },
  {
   "cell_type": "markdown",
   "id": "0a38cdb6",
   "metadata": {},
   "source": [
    "**Question 1.10:** Now, take some time to reflect on the quetions below and then, discuss with your peers or take a look at the discussions on the Ed post for this lab.\n",
    "\n",
    "1. Is the data more consistent with Emily' model (practioners were randomly guessing)?\n",
    "2. What does this mean in terms of Emily's experiment? Do the TT practitioners' answers follow an even chance model or is there something else at play? \n",
    "\n",
    "Did you talk to your peers or look at the discussion forum? (True/False)\n"
   ]
  },
  {
   "cell_type": "markdown",
   "id": "326946aa",
   "metadata": {},
   "source": [
    "_1. The data is more consistent with Emily's model that shows the practitioners were randomly guessing_\n",
    "\n",
    "_2. The TT practitioners' answers follow an even chance model. That is, they were guessing purely by chance._"
   ]
  },
  {
   "cell_type": "code",
   "execution_count": 85,
   "id": "460ffabf",
   "metadata": {
    "tags": []
   },
   "outputs": [
    {
     "data": {
      "text/plain": [
       "True"
      ]
     },
     "execution_count": 85,
     "metadata": {},
     "output_type": "execute_result"
    }
   ],
   "source": [
    "peer_talk = True\n",
    "peer_talk"
   ]
  },
  {
   "cell_type": "code",
   "execution_count": 86,
   "id": "a6f67f4a",
   "metadata": {
    "deletable": false,
    "editable": false
   },
   "outputs": [
    {
     "data": {
      "text/html": [
       "<p><strong><pre style='display: inline;'>q1_10</pre></strong> passed! 🌟</p>"
      ],
      "text/plain": [
       "q1_10 results: All test cases passed!"
      ]
     },
     "execution_count": 86,
     "metadata": {},
     "output_type": "execute_result"
    }
   ],
   "source": [
    "grader.check(\"q1_10\")"
   ]
  },
  {
   "cell_type": "markdown",
   "id": "9950f7c6",
   "metadata": {},
   "source": [
    "## ALMOST THERE!\n",
    "\n",
    "<img src=\"teddy.jpeg\" alt=\"Cute dog standing in a hallway with tile floors\" width=\"300\"/>\n",
    "\n",
    "**Teddy** wants to let you know that you rock!"
   ]
  },
  {
   "cell_type": "markdown",
   "id": "37383d59",
   "metadata": {},
   "source": [
    "\n",
    "---\n",
    "\n",
    "You're done with lab!\n",
    "\n",
    "**Important submission information:**\n",
    "- **Run all the tests** and verify that they all pass\n",
    "- **Save** from the **File** menu\n",
    "- **Run the final cell to generate the zip file**\n",
    "- **Click the link to download the zip file**\n",
    "- Then, go to [Gradescope](https://www.gradescope.com/courses/576157) and submit the zip file to the corresponding assignment. The name of this assignment is \"Lab XX Autograder\", where XX is the lab number -- 01, 02, 03, etc.\n",
    "\n",
    "- If you finish early in Regular Lab, **ask one of the staff members to check you off**.\n",
    "\n",
    "**It is your responsibility to make sure your work is saved before running the last cell.**\n"
   ]
  },
  {
   "cell_type": "markdown",
   "id": "c7d46405",
   "metadata": {
    "deletable": false,
    "editable": false
   },
   "source": [
    "## Submission\n",
    "\n",
    "Make sure you have run all cells in your notebook in order before running the cell below, so that all images/graphs appear in the output. The cell below will generate a zip file for you to submit. **Please save before exporting!**"
   ]
  },
  {
   "cell_type": "code",
   "execution_count": 87,
   "id": "b9475763",
   "metadata": {
    "deletable": false,
    "editable": false
   },
   "outputs": [
    {
     "name": "stdout",
     "output_type": "stream",
     "text": [
      "Running your submission against local test cases...\n",
      "\n",
      "\n",
      "\n",
      "Your submission received the following results when run against available test cases:\n",
      "\n",
      "    q1_2 results: All test cases passed!\n",
      "\n",
      "    q1_3 results: All test cases passed!\n",
      "\n",
      "    q1_5 results: All test cases passed!\n",
      "\n",
      "    q1_6 results: All test cases passed!\n",
      "\n",
      "    q1_7 results: All test cases passed!\n",
      "\n",
      "    q1_8 results: All test cases passed!\n",
      "\n",
      "    q1_9 results: All test cases passed!\n",
      "\n",
      "    q1_10 results: All test cases passed!\n"
     ]
    },
    {
     "data": {
      "text/html": [
       "\n",
       "            <p>Your submission has been exported. Click <a href=\"lab06_2023_10_05T09_56_25_036576.zip\" download=\"lab06_2023_10_05T09_56_25_036576.zip\" target=\"_blank\">here</a>\n",
       "            to download the zip file.</p>\n",
       "            "
      ],
      "text/plain": [
       "<IPython.core.display.HTML object>"
      ]
     },
     "metadata": {},
     "output_type": "display_data"
    }
   ],
   "source": [
    "# Save your notebook first, then run this cell to export your submission.\n",
    "grader.export(pdf=False, run_tests=True)"
   ]
  },
  {
   "cell_type": "markdown",
   "id": "4030b649",
   "metadata": {},
   "source": [
    " "
   ]
  }
 ],
 "metadata": {
  "kernelspec": {
   "display_name": "Python 3 (ipykernel)",
   "language": "python",
   "name": "python3"
  },
  "language_info": {
   "codemirror_mode": {
    "name": "ipython",
    "version": 3
   },
   "file_extension": ".py",
   "mimetype": "text/x-python",
   "name": "python",
   "nbconvert_exporter": "python",
   "pygments_lexer": "ipython3",
   "version": "3.9.15"
  },
  "otter": {
   "OK_FORMAT": true,
   "tests": {
    "q1_10": {
     "name": "q1_10",
     "points": null,
     "suites": [
      {
       "cases": [
        {
         "code": ">>> peer_talk == True\nTrue",
         "hidden": false,
         "locked": false
        }
       ],
       "scored": true,
       "setup": "",
       "teardown": "",
       "type": "doctest"
      }
     ]
    },
    "q1_2": {
     "name": "q1_2",
     "points": null,
     "suites": [
      {
       "cases": [
        {
         "code": ">>> 0 <= expected_proportion_correct <= 1\nTrue",
         "hidden": false,
         "locked": false
        },
        {
         "code": ">>> expected_proportion_correct == 0.5\nTrue",
         "hidden": false,
         "locked": false
        }
       ],
       "scored": true,
       "setup": "",
       "teardown": "",
       "type": "doctest"
      }
     ]
    },
    "q1_3": {
     "name": "q1_3",
     "points": null,
     "suites": [
      {
       "cases": [
        {
         "code": ">>> type(valid_stat) == np.ndarray\nTrue",
         "hidden": false,
         "locked": false
        },
        {
         "code": ">>> int(sum(valid_stat))\n2",
         "hidden": false,
         "locked": false
        }
       ],
       "scored": true,
       "setup": "",
       "teardown": "",
       "type": "doctest"
      }
     ]
    },
    "q1_5": {
     "name": "q1_5",
     "points": null,
     "suites": [
      {
       "cases": [
        {
         "code": ">>> int(round(statistic(.5,.5) + statistic(.4,.1),1))\n30",
         "hidden": false,
         "locked": false
        },
        {
         "code": ">>> int(statistic(.4,.1) - statistic(.1,.4))\n0",
         "hidden": false,
         "locked": false
        }
       ],
       "scored": true,
       "setup": "",
       "teardown": "",
       "type": "doctest"
      }
     ]
    },
    "q1_6": {
     "name": "q1_6",
     "points": null,
     "suites": [
      {
       "cases": [
        {
         "code": ">>> int(round(observed_statistic,2))\n6",
         "hidden": false,
         "locked": false
        }
       ],
       "scored": true,
       "setup": "",
       "teardown": "",
       "type": "doctest"
      }
     ]
    },
    "q1_7": {
     "name": "q1_7",
     "points": null,
     "suites": [
      {
       "cases": [
        {
         "code": ">>> len(model_proportions) % 2 == 0\nTrue",
         "hidden": false,
         "locked": false
        },
        {
         "code": ">>> len(np.unique(model_proportions))\n1",
         "hidden": false,
         "locked": false
        },
        {
         "code": ">>> sum(model_proportions) == 1\nTrue",
         "hidden": false,
         "locked": false
        },
        {
         "code": ">>> type(simulation_proportion_correct) == float\nTrue",
         "hidden": false,
         "locked": false
        },
        {
         "code": ">>> round(simulation_proportion_correct, 2)\n0.49",
         "hidden": false,
         "locked": false
        },
        {
         "code": ">>> round(one_statistic, 2) - 0.95 < 0.05\nTrue",
         "hidden": false,
         "locked": false
        }
       ],
       "scored": true,
       "setup": "",
       "teardown": "",
       "type": "doctest"
      }
     ]
    },
    "q1_8": {
     "name": "q1_8",
     "points": null,
     "suites": [
      {
       "cases": [
        {
         "code": ">>> len(simulated_statistics) == 1000\nTrue",
         "hidden": false,
         "locked": false
        },
        {
         "code": ">>> np.all(simulated_statistics <= 30)\nTrue",
         "hidden": false,
         "locked": false
        },
        {
         "code": ">>> np.all(simulated_statistics >= 0)\nTrue",
         "hidden": false,
         "locked": false
        },
        {
         "code": ">>> 0 <= simulation_and_statistic(model_proportions, expected_proportion_correct) <= 25\nTrue",
         "hidden": false,
         "locked": false
        }
       ],
       "scored": true,
       "setup": "",
       "teardown": "",
       "type": "doctest"
      }
     ]
    },
    "q1_9": {
     "name": "q1_9",
     "points": null,
     "suites": [
      {
       "cases": [
        {
         "code": ">>> 0 <= proportion_greater_or_equal <= 1\nTrue",
         "hidden": false,
         "locked": false
        },
        {
         "code": ">>> proportion_greater_or_equal*1000 == np.count_nonzero(simulated_statistics >= observed_statistic)\nTrue",
         "hidden": false,
         "locked": false
        }
       ],
       "scored": true,
       "setup": "",
       "teardown": "",
       "type": "doctest"
      }
     ]
    }
   }
  }
 },
 "nbformat": 4,
 "nbformat_minor": 5
}
